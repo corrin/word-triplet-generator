{
  "nbformat": 4,
  "nbformat_minor": 0,
  "metadata": {
    "colab": {
      "provenance": [],
      "gpuType": "V28",
      "authorship_tag": "ABX9TyOdxJQd/JftozstuV2cOs/R",
      "include_colab_link": true
    },
    "kernelspec": {
      "name": "python3",
      "display_name": "Python 3"
    },
    "language_info": {
      "name": "python"
    },
    "accelerator": "TPU"
  },
  "cells": [
    {
      "cell_type": "markdown",
      "metadata": {
        "id": "view-in-github",
        "colab_type": "text"
      },
      "source": [
        "<a href=\"https://colab.research.google.com/github/corrin/word-triplet-generator/blob/master/Fun_with_Time_Series.ipynb\" target=\"_parent\"><img src=\"https://colab.research.google.com/assets/colab-badge.svg\" alt=\"Open In Colab\"/></a>"
      ]
    },
    {
      "cell_type": "code",
      "execution_count": 2,
      "metadata": {
        "colab": {
          "base_uri": "https://localhost:8080/"
        },
        "id": "JHTiX7s_RZGQ",
        "outputId": "9e9309ab-a0d4-46f2-cd61-5a34573ecc2f"
      },
      "outputs": [
        {
          "output_type": "stream",
          "name": "stdout",
          "text": [
            "File already downloaded.\n",
            "Data already unzipped.\n"
          ]
        }
      ],
      "source": [
        "# prompt: Please download the bearings dataset from https://data.nasa.gov/download/brfb-gzcv/application%2Fzip\n",
        "%%bash\n",
        "# Check if the file exists\n",
        "if [ ! -f \"bearings.zip\" ]; then\n",
        "    echo \"Downloading bearings dataset...\"\n",
        "    wget https://data.nasa.gov/download/brfb-gzcv/application%2Fzip -O bearings.zip\n",
        "else\n",
        "    echo \"File already downloaded.\"\n",
        "fi\n",
        "\n",
        "# Check if the data has been extracted\n",
        "if [ ! -d \"IMS\" ]; then\n",
        "    echo \"Unzipping dataset...\"\n",
        "    unzip bearings.zip\n",
        "else\n",
        "    echo \"Data already unzipped.\"\n",
        "fi\n"
      ]
    },
    {
      "cell_type": "code",
      "source": [
        "%%bash\n",
        "\n",
        "# Map RAR files to filenames\n",
        "\n",
        "# Navigate to the IMS directory\n",
        "cd IMS\n",
        "\n",
        "# Define RAR files to check\n",
        "rar_files=(\"1st_test.rar\" \"2nd_test.rar\" \"3rd_test.rar\")\n",
        "\n",
        "# Loop through each RAR file and list unique top-level directories\n",
        "for rar_file in \"${rar_files[@]}\"; do\n",
        "    echo \"Directories in $rar_file:\"\n",
        "    # Skip the first 7 lines, then extract the unique top-level directories\n",
        "    unrar l \"$rar_file\" | tail -n +8 | awk '{print $5}' | cut -d'/' -f1 | sort -u\n",
        "    echo \"\"\n",
        "done\n"
      ],
      "metadata": {
        "colab": {
          "base_uri": "https://localhost:8080/"
        },
        "id": "YhUQubrmSOJ2",
        "outputId": "e8439ba5-37b4-461d-f41d-16e7e6dba1fc"
      },
      "execution_count": 20,
      "outputs": [
        {
          "output_type": "stream",
          "name": "stdout",
          "text": [
            "Directories in 1st_test.rar:\n",
            "\n",
            "----\n",
            "1st_test\n",
            "\n",
            "Directories in 2nd_test.rar:\n",
            "\n",
            "----\n",
            "2nd_test\n",
            "\n",
            "Directories in 3rd_test.rar:\n",
            "\n",
            "----\n",
            "4th_test\n",
            "\n"
          ]
        }
      ]
    },
    {
      "cell_type": "code",
      "source": [
        "%%bash\n",
        "\n",
        "# Actually extract the files\n",
        "\n",
        "cd IMS\n",
        "\n",
        "# Define RAR files and their corresponding output directories\n",
        "declare -A rar_files\n",
        "rar_files[\"1st_test.rar\"]=\"1st_test\"\n",
        "rar_files[\"2nd_test.rar\"]=\"2nd_test\"\n",
        "rar_files[\"3rd_test.rar\"]=\"4th_test\"  # Mapping confirmed as 3rd_test.rar -> 4th_test\n",
        "\n",
        "# Loop through each RAR file and extract only if the directory doesn't already exist\n",
        "for rar_file in \"${!rar_files[@]}\"; do\n",
        "    output_dir=\"${rar_files[$rar_file]}\"\n",
        "\n",
        "    if [ ! -d \"$output_dir\" ]; then\n",
        "        echo \"Extracting $rar_file to $output_dir...\"\n",
        "        unrar x -y -o- \"$rar_file\"\n",
        "    else\n",
        "        echo \"$output_dir already exists. Skipping extraction for $rar_file.\"\n",
        "    fi\n",
        "done\n"
      ],
      "metadata": {
        "colab": {
          "base_uri": "https://localhost:8080/"
        },
        "id": "3ZjtPm4FUA6d",
        "outputId": "14b7143a-d473-408d-c69c-fff7171acde5"
      },
      "execution_count": 19,
      "outputs": [
        {
          "output_type": "stream",
          "name": "stdout",
          "text": [
            "1st_test already exists. Skipping extraction for 1st_test.rar.\n",
            "4th_test already exists. Skipping extraction for 3rd_test.rar.\n",
            "2nd_test already exists. Skipping extraction for 2nd_test.rar.\n"
          ]
        }
      ]
    },
    {
      "cell_type": "code",
      "source": [
        "import os\n",
        "\n",
        "# List the first few files in the 1st_test directory\n",
        "sample_files = os.listdir(\"IMS/1st_test\")\n",
        "sample_files[:5]  # Display first 5 files\n"
      ],
      "metadata": {
        "colab": {
          "base_uri": "https://localhost:8080/"
        },
        "id": "L315_z8xVrdI",
        "outputId": "a1f56fef-aa45-414d-d6a2-b094aeafc1f0"
      },
      "execution_count": 21,
      "outputs": [
        {
          "output_type": "execute_result",
          "data": {
            "text/plain": [
              "['2003.11.23.16.46.56',\n",
              " '2003.10.31.12.05.51',\n",
              " '2003.11.22.08.36.56',\n",
              " '2003.11.23.04.16.56',\n",
              " '2003.11.22.15.26.56']"
            ]
          },
          "metadata": {},
          "execution_count": 21
        }
      ]
    },
    {
      "cell_type": "code",
      "source": [
        "import numpy as np\n",
        "\n",
        "# Define the file path\n",
        "file_path = \"IMS/1st_test/2003.11.23.16.46.56\"\n",
        "\n",
        "# Load the data from the file and display the first 10 rows\n",
        "data = np.loadtxt(file_path)\n",
        "print(data[:10])  # Display the first 10 rows\n"
      ],
      "metadata": {
        "colab": {
          "base_uri": "https://localhost:8080/"
        },
        "id": "1cPUDCSQZwOB",
        "outputId": "21d6e629-014d-422b-cd01-40a3f9dad4dc"
      },
      "execution_count": 22,
      "outputs": [
        {
          "output_type": "stream",
          "name": "stdout",
          "text": [
            "[[-0.232 -0.09  -0.061 -0.229 -0.205 -0.195 -0.042 -0.046]\n",
            " [-0.181 -0.137 -0.261 -0.193 -0.051 -0.002  0.027 -0.264]\n",
            " [-0.095 -0.217 -0.303 -0.093 -0.027 -0.139  0.132 -0.154]\n",
            " [-0.166 -0.212 -0.083 -0.161 -0.229  0.015 -0.117 -0.107]\n",
            " [-0.217 -0.129  0.037 -0.178 -0.288 -0.239 -0.193 -0.203]\n",
            " [-0.156 -0.166 -0.012 -0.129 -0.225 -0.278 -0.171 -0.173]\n",
            " [-0.088 -0.173 -0.205 -0.139 -0.081 -0.249 -0.083 -0.161]\n",
            " [-0.178 -0.154 -0.208 -0.129 -0.151 -0.034 -0.017 -0.464]\n",
            " [-0.239 -0.1   -0.01  -0.129 -0.159 -0.002 -0.088 -0.125]\n",
            " [-0.007 -0.193  0.09  -0.059 -0.217 -0.039 -0.229 -0.059]]\n"
          ]
        }
      ]
    },
    {
      "cell_type": "code",
      "source": [
        "import numpy as np\n",
        "import os\n",
        "\n",
        "# Path to a sample file\n",
        "file_path = \"IMS/1st_test/2003.11.23.16.46.56\"\n",
        "\n",
        "# Load the data\n",
        "data = np.loadtxt(file_path)\n",
        "\n",
        "# Check shape and memory usage of the data\n",
        "print(\"Shape of data:\", data.shape)\n",
        "print(\"Memory usage of one file (MB):\", data.nbytes / (1024 ** 2))\n"
      ],
      "metadata": {
        "colab": {
          "base_uri": "https://localhost:8080/"
        },
        "id": "sEXGYIijZ40F",
        "outputId": "52258f2d-bfcc-4156-d48a-c7d3d6f4d971"
      },
      "execution_count": 23,
      "outputs": [
        {
          "output_type": "stream",
          "name": "stdout",
          "text": [
            "Shape of data: (20480, 8)\n",
            "Memory usage of one file (MB): 1.25\n"
          ]
        }
      ]
    },
    {
      "cell_type": "code",
      "source": [
        "# Count the total number of files in the 1st_test directory\n",
        "file_count = len(os.listdir(\"IMS/1st_test\"))\n",
        "\n",
        "# Estimate total memory usage for all files in MB\n",
        "total_memory_usage = data.nbytes * file_count / (1024 ** 2)\n",
        "print(\"Estimated total memory usage for all files (MB):\", total_memory_usage)\n"
      ],
      "metadata": {
        "colab": {
          "base_uri": "https://localhost:8080/"
        },
        "id": "I8PLoln_aH2G",
        "outputId": "9628ab7d-6c0b-48d1-8726-e4a39949976a"
      },
      "execution_count": 24,
      "outputs": [
        {
          "output_type": "stream",
          "name": "stdout",
          "text": [
            "Estimated total memory usage for all files (MB): 2695.0\n"
          ]
        }
      ]
    },
    {
      "cell_type": "code",
      "source": [
        "import numpy as np\n",
        "import os\n",
        "\n",
        "# Path to the 1st_test directory (Download stage)\n",
        "directory_path = \"IMS/1st_test\"\n",
        "\n",
        "# Load all files into a single 3D numpy array\n",
        "all_data = []\n",
        "file_names = sorted(os.listdir(directory_path))  # Sort files for consistent ordering\n",
        "\n",
        "for filename in file_names:\n",
        "    file_path = os.path.join(directory_path, filename)\n",
        "    data = np.loadtxt(file_path)\n",
        "    all_data.append(data)\n",
        "\n",
        "# Convert to 3D array (files x time steps x channels)\n",
        "all_data = np.array(all_data)\n",
        "print(\"Raw data shape:\", all_data.shape)  # Should print (num_files, 20480, 8)\n"
      ],
      "metadata": {
        "colab": {
          "base_uri": "https://localhost:8080/"
        },
        "id": "UKEZ5PUaaK7A",
        "outputId": "5c7c6c30-d02c-4698-829f-cfe38f0d02c6"
      },
      "execution_count": 25,
      "outputs": [
        {
          "output_type": "stream",
          "name": "stdout",
          "text": [
            "Raw data shape: (2156, 20480, 8)\n"
          ]
        }
      ]
    },
    {
      "cell_type": "code",
      "source": [],
      "metadata": {
        "id": "QgOT8_vhakzn"
      },
      "execution_count": null,
      "outputs": []
    }
  ]
}